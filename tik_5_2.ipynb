{
  "nbformat": 4,
  "nbformat_minor": 0,
  "metadata": {
    "colab": {
      "name": "tik_5.1.ipynb",
      "provenance": [],
      "collapsed_sections": [],
      "authorship_tag": "ABX9TyM2vOi4OnyWljJw4VRN3wDJ",
      "include_colab_link": true
    },
    "kernelspec": {
      "name": "python3",
      "display_name": "Python 3"
    },
    "language_info": {
      "name": "python"
    }
  },
  "cells": [
    {
      "cell_type": "markdown",
      "metadata": {
        "id": "view-in-github",
        "colab_type": "text"
      },
      "source": [
        "<a href=\"https://colab.research.google.com/github/IvanMaiurnikov/tik5_2/blob/main/tik_5_2.ipynb\" target=\"_parent\"><img src=\"https://colab.research.google.com/assets/colab-badge.svg\" alt=\"Open In Colab\"/></a>"
      ]
    },
    {
      "cell_type": "code",
      "metadata": {
        "id": "WSOdxYM1Bji2",
        "colab": {
          "base_uri": "https://localhost:8080/",
          "height": 418
        },
        "outputId": "5b3e4226-6d77-40c8-8167-2074a38c7c94"
      },
      "source": [
        "import math\n",
        "import sys\n",
        "import matplotlib.pyplot as plt\n",
        "from collections import Counter\n",
        "global probabilities\n",
        "global bar_graphs\n",
        "probabilities = []\n",
        "bar_graphs = []\n",
        "class HuffmanCode:\n",
        "    def __init__(self,probability, entropy):\n",
        "        self.probability = probability\n",
        "        self.entropy_of_code = entropy\n",
        "    def position(self, value, index):\n",
        "        for j in range(len(self.probability)):\n",
        "            if(value >= self.probability[j]):\n",
        "                return j\n",
        "        return index-1\n",
        "\n",
        "    def characteristics_huffman_code(self, code):\n",
        "        length_of_code = [len(k) for k in code]\n",
        "\n",
        "        mean_length = sum([a*b for a, b in zip(length_of_code, self.probability)])\n",
        "\n",
        "        print(\"Average length of the code: %f\" % mean_length)\n",
        "        print(\"Efficiency of the code: %f\" % (self.entropy_of_code/mean_length))\n",
        "\n",
        "    def compute_code(self):\n",
        "        num = len(self.probability)\n",
        "        huffman_code = ['']*num\n",
        "\n",
        "        for i in range(num-2):\n",
        "            val = self.probability[num-i-1] + self.probability[num-i-2]\n",
        "            if(huffman_code[num-i-1] != '' and huffman_code[num-i-2] != ''):\n",
        "                huffman_code[-1] = ['1' + symbol for symbol in huffman_code[-1]]\n",
        "                huffman_code[-2] = ['0' + symbol for symbol in huffman_code[-2]]\n",
        "            elif(huffman_code[num-i-1] != ''):\n",
        "                huffman_code[num-i-2] = '0'\n",
        "                huffman_code[-1] = ['1' + symbol for symbol in huffman_code[-1]]\n",
        "            elif(huffman_code[num-i-2] != ''):\n",
        "                huffman_code[num-i-1] = '1'\n",
        "                huffman_code[-2] = ['0' + symbol for symbol in huffman_code[-2]]\n",
        "            else:\n",
        "                huffman_code[num-i-1] = '1'\n",
        "                huffman_code[num-i-2] = '0'\n",
        "\n",
        "            position = self.position(val, i)\n",
        "            probability = self.probability[0:(len(self.probability) - 2)]\n",
        "            probability.insert(position, val)\n",
        "            if(isinstance(huffman_code[num-i-2], list) and isinstance(huffman_code[num-i-1], list)):\n",
        "                complete_code = huffman_code[num-i-1] + huffman_code[num-i-2]\n",
        "            elif(isinstance(huffman_code[num-i-2], list)):\n",
        "                complete_code = huffman_code[num-i-2] + [huffman_code[num-i-1]]\n",
        "            elif(isinstance(huffman_code[num-i-1], list)):\n",
        "                complete_code = huffman_code[num-i-1] + [huffman_code[num-i-2]]\n",
        "            else:\n",
        "                complete_code = [huffman_code[num-i-2], huffman_code[num-i-1]]\n",
        "\n",
        "            huffman_code = huffman_code[0:(len(huffman_code)-2)]\n",
        "            huffman_code.insert(position, complete_code)\n",
        "\n",
        "        huffman_code[0] = ['0' + symbol for symbol in huffman_code[0]]\n",
        "        huffman_code[1] = ['1' + symbol for symbol in huffman_code[1]]\n",
        "\n",
        "        if(len(huffman_code[1]) == 0):\n",
        "            huffman_code[1] = '1'\n",
        "\n",
        "        count = 0\n",
        "        final_code = ['']*num\n",
        "\n",
        "        for i in range(2):\n",
        "            for j in range(len(huffman_code[i])):\n",
        "                final_code[count] = huffman_code[i][j]\n",
        "                count += 1\n",
        "\n",
        "        final_code = sorted(final_code, key=len)\n",
        "        return final_code\n",
        "\n",
        "def entropy(str_in):\n",
        "        f_list=[]\n",
        "        p_list=[]\n",
        "        k = len(str_in)                        #Кількість символів\n",
        "        f_list = Counter(str_in).most_common() #відсортуємо за допомогою most_common()\n",
        "        m = len(f_list)                        #Потужність алфавіту - кількість різноманітних символів в тексті\n",
        "        i_sym         = math.ceil(math.log2(m))\n",
        "        ent = 0\n",
        "        idx=0\n",
        "        for el in f_list:\n",
        "            p_list.append(float(\"{:.2f}\".format(el[1]/k)))\n",
        "            ent -= (p_list[0]) * (math.log2(el[1]/k))\n",
        "            idx += 1\n",
        "        return p_list, f_list, ent\n",
        "\n",
        "string = input(\"Enter the string to compute Huffman Code: \")\n",
        "\n",
        "freq = {}\n",
        "for c in string:\n",
        "    if c in freq:\n",
        "        freq[c] += 1\n",
        "    else:\n",
        "        freq[c] = 1\n",
        "\n",
        "probabilities, freq, ent=entropy(string)\n",
        "'''\n",
        "plt.barh(range(len(freq)), [val[1] for val in freq], align='center')\n",
        "plt.yticks(range(len(freq)), [val[0] for val in freq])\n",
        "plt.yticks(rotation=0)\n",
        "for i, v in enumerate(freq):\n",
        "    plt.text(v[1] + 0.05, i + .25, str(v[1]), color='blue', fontweight='bold')\n",
        "plt.show()\n",
        "'''\n",
        "#draw bar graph of probabilities\n",
        "plt.barh(range(len(probabilities)), [val for val in probabilities], align='center')\n",
        "plt.yticks(range(len(freq)), [val[0] for val in freq])\n",
        "plt.yticks(rotation=0)\n",
        "for i, v in enumerate(probabilities):\n",
        "    plt.text(v + 0.0001, i + .25, str(v), color='blue', fontweight='bold')\n",
        "plt.show()\n",
        "\n",
        "length = len(string)\n",
        "\n",
        "print(\"Entropy of the code: %f\" %(ent))\n",
        "\n",
        "huffmanClassObject = HuffmanCode(probabilities, ent)\n",
        "huffman_code = huffmanClassObject.compute_code()\n",
        "\n",
        "print(' Char | Huffman code ')\n",
        "print('----------------------')\n",
        "\n",
        "for id,char in enumerate(freq):\n",
        "    if huffman_code[id]=='':\n",
        "        print(' %-4r |%12s' % (char[0], 1))\n",
        "        continue\n",
        "    print(' %-4r |%12s' % (char[0], huffman_code[id]))\n",
        "\n",
        "huffmanClassObject.characteristics_huffman_code(huffman_code)"
      ],
      "execution_count": 29,
      "outputs": [
        {
          "name": "stdout",
          "output_type": "stream",
          "text": [
            "Enter the string to compute Huffman Code: aaaa    bbbbbbbbbb\n"
          ]
        },
        {
          "output_type": "display_data",
          "data": {
            "image/png": "[encoded data removed]",
            "text/plain": [
              "<Figure size 432x288 with 1 Axes>"
            ]
          },
          "metadata": {
            "needs_background": "light"
          }
        },
        {
          "output_type": "stream",
          "name": "stdout",
          "text": [
            "Entropy of the code: 2.905194\n",
            " Char | Huffman code \n",
            "----------------------\n",
            " 'b'  |           1\n",
            " 'a'  |          10\n",
            " ' '  |          11\n",
            "Average length of the code: 0.880000\n",
            "Efficiency of the code: 3.301357\n"
          ]
        }
      ]
    }
  ]
}